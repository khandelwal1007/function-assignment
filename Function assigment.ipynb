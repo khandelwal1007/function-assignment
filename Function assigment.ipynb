{
 "cells": [
  {
   "cell_type": "code",
   "execution_count": null,
   "id": "cf3ddab3-a98f-4f75-89ca-4f58b6640ad4",
   "metadata": {},
   "outputs": [],
   "source": []
  },
  {
   "cell_type": "code",
   "execution_count": null,
   "id": "f2b7962f-2fbb-4b0e-a9de-2c93ef139b60",
   "metadata": {},
   "outputs": [],
   "source": [
    "# 1. What is the difference between a function and a method in Python.?\n",
    "\n",
    "Function:A function is a block of code that is designed to perform a specific task and can be called independently.\n",
    "\n",
    "ex:\n",
    "def jitu(name):\n",
    "    return f\"hello,{name}\"\n",
    "jitu(\"ram\") #'hello,ram'\n",
    "\n",
    "method:A method is a function that is associated with an object and is called on that object.\n",
    "Methods are defined within a class and are used to operate on the data contained within that class.\n",
    "\n",
    "ex:\n",
    "class jitu:\n",
    "    def __init__(self,name):\n",
    "        self.name = name\n",
    "    \n",
    "    def greet(self):\n",
    "        return f\"hello, {self.name}\"\n",
    "a = jitu(\"ram\")\n",
    "a.greet() #'hello, ram'\n"
   ]
  },
  {
   "cell_type": "code",
   "execution_count": null,
   "id": "6b49c09a-46cc-4baf-b76f-8f793efbf473",
   "metadata": {},
   "outputs": [],
   "source": [
    "# 2. Explain the concept of function arguments and parameters in Python.?\n",
    "\n",
    "parameters: Parameters are the variables that are listed inside the parentheses in the function definition.\n",
    "\n",
    "ex:\n",
    "def jaipur(name):  # 'name' is a parameter\n",
    "    return f\"Hello, {name}!\"\n",
    "\n",
    "function argument:  Arguments are the actual values that are passed to the function when it is called.\n",
    "\n",
    "ex:\n",
    "def jaipur(name):  \n",
    "    return f\"Hello, {name}!\"\n",
    "a = jaipur(\"jitu\") # \"jitu\" is a argument\n",
    "\n",
    "many type of function argument:\n",
    "1.position argument\n",
    "2.keyword argument\n",
    "3.default argument\n",
    "4.variable- length-argument\n"
   ]
  },
  {
   "cell_type": "code",
   "execution_count": null,
   "id": "3e99239a-f830-4340-a4fe-c570f4c5654a",
   "metadata": {},
   "outputs": [],
   "source": [
    "# 3. What are the different ways to define and call a function in Python?\n",
    "\n",
    "define function:Defining a function in Python involves two main steps: defining the function and specifying the arguments it takes.\n",
    "\n",
    "ex:\n",
    "def greet(name):\n",
    "    print(\"Hello, \" + name + \"! How are you?\")\n",
    "\n",
    "call a function:Once you have defined a function, you can call it in your code as many times as you need.\n",
    "ex:\n",
    "greet(\"jitu\")"
   ]
  },
  {
   "cell_type": "code",
   "execution_count": null,
   "id": "227b0922-faa7-4b02-978b-522eaa3f45a5",
   "metadata": {},
   "outputs": [],
   "source": [
    "# 4.What is the purpose of the `return` statement in a Python function?\n",
    "\n",
    "A return statement is used to end the execution of the function call and “returns” the result (value of the expression following the return keyword) to the caller. The statements after the return statements are not executed. If the return statement is without any expression, then the special value None is returned. A return statement is overall used to invoke a function so that the passed statements can be executed.\n",
    "\n",
    "ex:\n",
    "def cube(x):\n",
    "    s = x**3\n",
    "    return s"
   ]
  },
  {
   "cell_type": "code",
   "execution_count": null,
   "id": "a51d085a-ab96-4d6b-87ba-4f2198d72bce",
   "metadata": {},
   "outputs": [],
   "source": [
    "# 5.What are iterators in Python and how do they differ from iterables.?\n",
    "\n",
    "iterators:An iterator is an object that represents a stream of data; it fetches one element at a time when called. It is the object that does the actual iteration.\n",
    "\n",
    "ex:\n",
    "l = [1, 2, 4]\n",
    "sum  = iter(l)\n",
    "next(sum) #1\n",
    "next(sum) #2\n",
    "next(sum) #3\n",
    "\n",
    "iterable:An iterable is any Python object that can be looped over (iterated over). Examples include lists, tuples, strings, dictionaries, and sets.\n",
    "\n",
    "ex:\n",
    "my_list = [5,6,35,65]\n",
    "my_string = \"jitu is a good boy\""
   ]
  },
  {
   "cell_type": "code",
   "execution_count": null,
   "id": "c70b0905-e2c7-4a0f-8107-a19c210b9feb",
   "metadata": {},
   "outputs": [],
   "source": [
    "# 6.. Explain the concept of generators in Python and how they are defined?\n",
    "\n",
    "generators: generators are a simple way to to create iterators using functions and the yield keyword instead of returning vlaues.\n",
    "#ex:\n",
    "def countdown(n):\n",
    "    while > 0:\n",
    "        yield n\n",
    "        n -= 1\n",
    "gen = countdown(5)\n",
    "for num in gen:\n",
    "    print(num)\n",
    "    \n",
    "#ex2:\n",
    "def jitu(n):\n",
    "    for i in range(n):\n",
    "        yield i**2\n",
    "a = jitu(3)\n",
    "   \n",
    "print(next(a)) #0\n",
    "print(next(a)) #1\n",
    "print(next(a)) #4"
   ]
  },
  {
   "cell_type": "code",
   "execution_count": null,
   "id": "9501d2e6-de3b-4891-908e-b65230c9e8d0",
   "metadata": {},
   "outputs": [],
   "source": [
    "# 7.What are the advantages of using generators over regular functions?\n",
    "\n",
    "regular function:takes a list and gives square of each of the list.\n",
    "# ex\n",
    "def count_up_list(start, end):\n",
    "    return list(range(start, end))\n",
    "\n",
    "count_up_list(5, 9) #[5,6,7,8]\n",
    "\n",
    "generators advantage : can be have something to generate result one by one instead of one go.\n",
    "\n",
    "# ex\n",
    "def count_up(x):\n",
    "    while True:\n",
    "        yield x\n",
    "        x -= 1\n",
    "a = count_up(4)\n",
    "print(next(a)) #4\n",
    "print(next(a)) #3\n",
    "print(next(a)) #2\n",
    "print(next(a)) #1\n",
    "print(next(a)) #0\n",
    "print(next(a)) #-1"
   ]
  },
  {
   "cell_type": "code",
   "execution_count": null,
   "id": "4588fc5b-5ef6-4625-addf-cdd775c84c8c",
   "metadata": {},
   "outputs": [],
   "source": [
    "# 8.What is a lambda function in Python and when is it typically used?\n",
    "\n",
    "lambda function: lambda functions are small, anonymous functions using the lambda keyword.they are used for creating small, throwway functions without the need to formally define a function using def.\n",
    "# ex\n",
    "l = [1, 2, 3, 4, 5, 6]\n",
    "def jitu(l):\n",
    "    jd = []\n",
    "    for i in l:\n",
    "        jd.append(i**2)\n",
    "    return jd\n",
    "jitu(l) #[1, 4, 9, 16, 25, 36]"
   ]
  },
  {
   "cell_type": "code",
   "execution_count": null,
   "id": "f24c972a-2049-46cf-818b-8f031d46afda",
   "metadata": {},
   "outputs": [],
   "source": [
    "# 9. Explain the purpose and usage of the `map()` function in Python.\n",
    "\n",
    "map function: the map function applies a given funciton to all items in an input iterable in an input iterable (like a list) and return an iterator with the result.\n",
    "\n",
    "numbers = [1, 2,3, 4,5, 54, 53, 564, 353, 5353,5,34,5, 353]\n",
    "a = list(map(lambda x:x*x, numbers))\n",
    "a #[1, 4, 9, 16, 25, 2916, 2809, 318096, 124609, 28654609, 25, 1156, 25, 124609]"
   ]
  },
  {
   "cell_type": "code",
   "execution_count": null,
   "id": "4d54269b-2a01-45e3-a85d-78b52a538f79",
   "metadata": {},
   "outputs": [],
   "source": [
    "# 10. What is the difference between `map()`, `reduce()`, and `filter()` functions in Python?\n",
    "\n",
    "map:executes a specified function for each of iterm of an iterable.\n",
    "ex:\n",
    "l =[1, 2, 3, 4, 5]\n",
    "list(map(lambda x:x+10, l)\n",
    "     \n",
    "reduce:folding|reduction #reduce will always take two function argument\n",
    "ex:\n",
    "l = [1, 2, 3, 4, 5]\n",
    "reduce(lambda x, y:x\n"
   ]
  },
  {
   "cell_type": "code",
   "execution_count": null,
   "id": "a4a91463-40fe-4aba-8b46-e5ff295730b0",
   "metadata": {},
   "outputs": [],
   "source": [
    "# 11.. Using pen & Paper write the internal mechanism for sum operation using  reduce function on this given\n",
    "# list:[47,11,42,13]\n",
    "\n",
    "from functools import reduce\n",
    "result = reduce(lambda x, y: x + y, [47, 11, 42, 13])\n",
    "result #113"
   ]
  }
 ],
 "metadata": {
  "kernelspec": {
   "display_name": "Python 3 (ipykernel)",
   "language": "python",
   "name": "python3"
  },
  "language_info": {
   "codemirror_mode": {
    "name": "ipython",
    "version": 3
   },
   "file_extension": ".py",
   "mimetype": "text/x-python",
   "name": "python",
   "nbconvert_exporter": "python",
   "pygments_lexer": "ipython3",
   "version": "3.10.8"
  }
 },
 "nbformat": 4,
 "nbformat_minor": 5
}
